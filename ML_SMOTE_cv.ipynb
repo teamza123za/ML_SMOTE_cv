{
 "cells": [
  {
   "cell_type": "code",
   "execution_count": 1,
   "metadata": {},
   "outputs": [],
   "source": [
    "from sklearn.neighbors import KNeighborsClassifier\n",
    "from sklearn.neural_network import MLPClassifier\n",
    "from sklearn.ensemble import RandomForestClassifier\n",
    "from sklearn.metrics import accuracy_score, classification_report, confusion_matrix\n",
    "# from imblearn.under_sampling import RandomUnderSampler\n",
    "from imblearn.over_sampling import SMOTE\n",
    "import seaborn as sns\n",
    "import matplotlib.pyplot as plt\n",
    "import numpy as np\n",
    "import pandas as pd\n",
    "from sklearn.model_selection import train_test_split\n",
    "from sklearn.model_selection import cross_val_score"
   ]
  },
  {
   "cell_type": "code",
   "execution_count": 2,
   "metadata": {},
   "outputs": [
    {
     "data": {
      "text/html": [
       "<div>\n",
       "<style scoped>\n",
       "    .dataframe tbody tr th:only-of-type {\n",
       "        vertical-align: middle;\n",
       "    }\n",
       "\n",
       "    .dataframe tbody tr th {\n",
       "        vertical-align: top;\n",
       "    }\n",
       "\n",
       "    .dataframe thead th {\n",
       "        text-align: right;\n",
       "    }\n",
       "</style>\n",
       "<table border=\"1\" class=\"dataframe\">\n",
       "  <thead>\n",
       "    <tr style=\"text-align: right;\">\n",
       "      <th></th>\n",
       "      <th>e_magic</th>\n",
       "      <th>e_cblp</th>\n",
       "      <th>e_cp</th>\n",
       "      <th>e_crlc</th>\n",
       "      <th>e_cparhdr</th>\n",
       "      <th>e_minalloc</th>\n",
       "      <th>e_maxalloc</th>\n",
       "      <th>e_ss</th>\n",
       "      <th>e_sp</th>\n",
       "      <th>e_csum</th>\n",
       "      <th>...</th>\n",
       "      <th>SectionMaxChar</th>\n",
       "      <th>SectionMainChar</th>\n",
       "      <th>DirectoryEntryImport</th>\n",
       "      <th>DirectoryEntryImportSize</th>\n",
       "      <th>DirectoryEntryExport</th>\n",
       "      <th>ImageDirectoryEntryExport</th>\n",
       "      <th>ImageDirectoryEntryImport</th>\n",
       "      <th>ImageDirectoryEntryResource</th>\n",
       "      <th>ImageDirectoryEntryException</th>\n",
       "      <th>ImageDirectoryEntrySecurity</th>\n",
       "    </tr>\n",
       "  </thead>\n",
       "  <tbody>\n",
       "    <tr>\n",
       "      <th>0</th>\n",
       "      <td>23117</td>\n",
       "      <td>144</td>\n",
       "      <td>3</td>\n",
       "      <td>0</td>\n",
       "      <td>4</td>\n",
       "      <td>0</td>\n",
       "      <td>65535</td>\n",
       "      <td>0</td>\n",
       "      <td>184</td>\n",
       "      <td>0</td>\n",
       "      <td>...</td>\n",
       "      <td>3758096608</td>\n",
       "      <td>0</td>\n",
       "      <td>7</td>\n",
       "      <td>152</td>\n",
       "      <td>0</td>\n",
       "      <td>0</td>\n",
       "      <td>54440</td>\n",
       "      <td>77824</td>\n",
       "      <td>73728</td>\n",
       "      <td>0</td>\n",
       "    </tr>\n",
       "    <tr>\n",
       "      <th>1</th>\n",
       "      <td>23117</td>\n",
       "      <td>144</td>\n",
       "      <td>3</td>\n",
       "      <td>0</td>\n",
       "      <td>4</td>\n",
       "      <td>0</td>\n",
       "      <td>65535</td>\n",
       "      <td>0</td>\n",
       "      <td>184</td>\n",
       "      <td>0</td>\n",
       "      <td>...</td>\n",
       "      <td>3791650880</td>\n",
       "      <td>0</td>\n",
       "      <td>16</td>\n",
       "      <td>311</td>\n",
       "      <td>0</td>\n",
       "      <td>0</td>\n",
       "      <td>262276</td>\n",
       "      <td>294912</td>\n",
       "      <td>0</td>\n",
       "      <td>346112</td>\n",
       "    </tr>\n",
       "    <tr>\n",
       "      <th>2</th>\n",
       "      <td>23117</td>\n",
       "      <td>144</td>\n",
       "      <td>3</td>\n",
       "      <td>0</td>\n",
       "      <td>4</td>\n",
       "      <td>0</td>\n",
       "      <td>65535</td>\n",
       "      <td>0</td>\n",
       "      <td>184</td>\n",
       "      <td>0</td>\n",
       "      <td>...</td>\n",
       "      <td>3221225536</td>\n",
       "      <td>0</td>\n",
       "      <td>6</td>\n",
       "      <td>176</td>\n",
       "      <td>0</td>\n",
       "      <td>0</td>\n",
       "      <td>36864</td>\n",
       "      <td>40960</td>\n",
       "      <td>0</td>\n",
       "      <td>0</td>\n",
       "    </tr>\n",
       "    <tr>\n",
       "      <th>3</th>\n",
       "      <td>23117</td>\n",
       "      <td>144</td>\n",
       "      <td>3</td>\n",
       "      <td>0</td>\n",
       "      <td>4</td>\n",
       "      <td>0</td>\n",
       "      <td>65535</td>\n",
       "      <td>0</td>\n",
       "      <td>184</td>\n",
       "      <td>0</td>\n",
       "      <td>...</td>\n",
       "      <td>3224371328</td>\n",
       "      <td>0</td>\n",
       "      <td>8</td>\n",
       "      <td>155</td>\n",
       "      <td>0</td>\n",
       "      <td>0</td>\n",
       "      <td>356352</td>\n",
       "      <td>1003520</td>\n",
       "      <td>0</td>\n",
       "      <td>14109472</td>\n",
       "    </tr>\n",
       "    <tr>\n",
       "      <th>4</th>\n",
       "      <td>23117</td>\n",
       "      <td>144</td>\n",
       "      <td>3</td>\n",
       "      <td>0</td>\n",
       "      <td>4</td>\n",
       "      <td>0</td>\n",
       "      <td>65535</td>\n",
       "      <td>0</td>\n",
       "      <td>184</td>\n",
       "      <td>0</td>\n",
       "      <td>...</td>\n",
       "      <td>3227516992</td>\n",
       "      <td>0</td>\n",
       "      <td>2</td>\n",
       "      <td>43</td>\n",
       "      <td>0</td>\n",
       "      <td>0</td>\n",
       "      <td>61440</td>\n",
       "      <td>73728</td>\n",
       "      <td>0</td>\n",
       "      <td>90624</td>\n",
       "    </tr>\n",
       "  </tbody>\n",
       "</table>\n",
       "<p>5 rows × 78 columns</p>\n",
       "</div>"
      ],
      "text/plain": [
       "   e_magic  e_cblp  e_cp  e_crlc  e_cparhdr  e_minalloc  e_maxalloc  e_ss  \\\n",
       "0    23117     144     3       0          4           0       65535     0   \n",
       "1    23117     144     3       0          4           0       65535     0   \n",
       "2    23117     144     3       0          4           0       65535     0   \n",
       "3    23117     144     3       0          4           0       65535     0   \n",
       "4    23117     144     3       0          4           0       65535     0   \n",
       "\n",
       "   e_sp  e_csum  ...  SectionMaxChar  SectionMainChar  DirectoryEntryImport  \\\n",
       "0   184       0  ...      3758096608                0                     7   \n",
       "1   184       0  ...      3791650880                0                    16   \n",
       "2   184       0  ...      3221225536                0                     6   \n",
       "3   184       0  ...      3224371328                0                     8   \n",
       "4   184       0  ...      3227516992                0                     2   \n",
       "\n",
       "   DirectoryEntryImportSize  DirectoryEntryExport  ImageDirectoryEntryExport  \\\n",
       "0                       152                     0                          0   \n",
       "1                       311                     0                          0   \n",
       "2                       176                     0                          0   \n",
       "3                       155                     0                          0   \n",
       "4                        43                     0                          0   \n",
       "\n",
       "   ImageDirectoryEntryImport  ImageDirectoryEntryResource  \\\n",
       "0                      54440                        77824   \n",
       "1                     262276                       294912   \n",
       "2                      36864                        40960   \n",
       "3                     356352                      1003520   \n",
       "4                      61440                        73728   \n",
       "\n",
       "   ImageDirectoryEntryException  ImageDirectoryEntrySecurity  \n",
       "0                         73728                            0  \n",
       "1                             0                       346112  \n",
       "2                             0                            0  \n",
       "3                             0                     14109472  \n",
       "4                             0                        90624  \n",
       "\n",
       "[5 rows x 78 columns]"
      ]
     },
     "execution_count": 2,
     "metadata": {},
     "output_type": "execute_result"
    }
   ],
   "source": [
    "data = pd.read_csv('C:\\\\Users\\\\Windows 11\\\\Desktop\\\\Project\\\\Dataset_malware\\\\dataset_malwares.csv')\n",
    "\n",
    "data = data.select_dtypes(include=[np.number])\n",
    "\n",
    "data.head()"
   ]
  },
  {
   "cell_type": "code",
   "execution_count": 3,
   "metadata": {},
   "outputs": [
    {
     "data": {
      "text/plain": [
       "e_magic                         0\n",
       "e_cblp                          0\n",
       "e_cp                            0\n",
       "e_crlc                          0\n",
       "e_cparhdr                       0\n",
       "                               ..\n",
       "ImageDirectoryEntryExport       0\n",
       "ImageDirectoryEntryImport       0\n",
       "ImageDirectoryEntryResource     0\n",
       "ImageDirectoryEntryException    0\n",
       "ImageDirectoryEntrySecurity     0\n",
       "Length: 78, dtype: int64"
      ]
     },
     "execution_count": 3,
     "metadata": {},
     "output_type": "execute_result"
    }
   ],
   "source": [
    "data.isnull().sum()"
   ]
  },
  {
   "cell_type": "code",
   "execution_count": 4,
   "metadata": {},
   "outputs": [
    {
     "data": {
      "image/png": "[encoded data removed]",
      "text/plain": [
       "<Figure size 640x480 with 1 Axes>"
      ]
     },
     "metadata": {},
     "output_type": "display_data"
    }
   ],
   "source": [
    "sns.countplot(x='Malware', data=data);"
   ]
  },
  {
   "cell_type": "code",
   "execution_count": 5,
   "metadata": {},
   "outputs": [],
   "source": [
    "X = data.drop([\"Malware\"],axis=1)\n",
    "y = data['Malware'].values"
   ]
  },
  {
   "cell_type": "code",
   "execution_count": 6,
   "metadata": {},
   "outputs": [],
   "source": [
    "X_train, X_test, y_train, y_test = train_test_split(X, y, test_size=0.2, random_state=101)"
   ]
  },
  {
   "cell_type": "code",
   "execution_count": 7,
   "metadata": {},
   "outputs": [],
   "source": [
    "models = [\n",
    "    KNeighborsClassifier(),\n",
    "    MLPClassifier(),\n",
    "    RandomForestClassifier(),\n",
    "\n",
    "]"
   ]
  },
  {
   "cell_type": "code",
   "execution_count": 8,
   "metadata": {},
   "outputs": [],
   "source": [
    "model_names = [\n",
    "    'KNeighborsClassifier',\n",
    "    'NeuralNetwork',\n",
    "    'RandomForestClassifier',\n",
    "]"
   ]
  },
  {
   "cell_type": "code",
   "execution_count": 9,
   "metadata": {},
   "outputs": [],
   "source": [
    "accuracy_test = []"
   ]
  },
  {
   "cell_type": "code",
   "execution_count": 10,
   "metadata": {},
   "outputs": [],
   "source": [
    "rus = SMOTE(random_state=42)\n",
    "\n",
    "# การกำหนดค่า random_state จะช่วยให้ผลลัพธ์ของการสุ่มข้อมูลมีความสม่ำเสมอทุกครั้งที่รันโค้ด\n",
    "\n",
    "X_resampled, y_resampled = rus.fit_resample(X_train, y_train)\n",
    "\n",
    "# fit_resample() เพื่อปรับสมดุลข้อมูล โดย X_resampled และ y_resampled คือข้อมูลชุด train ที่ปรับสมดุลแล้ว"
   ]
  },
  {
   "cell_type": "code",
   "execution_count": 11,
   "metadata": {},
   "outputs": [
    {
     "name": "stdout",
     "output_type": "stream",
     "text": [
      "######-Model =>\u001b[07m KNeighborsClassifier \u001b[0m\n",
      "Cross-Validation Scores: [0.98279159 0.98151689 0.98661568 0.98342894 0.98597833 0.98661568\n",
      " 0.97705545 0.98534098 0.97704082 0.98788265]\n",
      "Mean CV Accuracy: 0.98343\n",
      "\u001b[01m              Classification_report \u001b[0m\n",
      "Test Accuracy :\u001b[32m \u001b[01m 98.47056% \u001b[30m \u001b[0m\n",
      "              precision    recall  f1-score   support\n",
      "\n",
      "           0       0.95      0.99      0.97       974\n",
      "           1       1.00      0.98      0.99      2949\n",
      "\n",
      "    accuracy                           0.98      3923\n",
      "   macro avg       0.97      0.99      0.98      3923\n",
      "weighted avg       0.99      0.98      0.98      3923\n",
      "\n",
      "\u001b[01m             Confusion_matrix \u001b[0m\n"
     ]
    },
    {
     "data": {
      "image/png": "[encoded data removed]",
      "text/plain": [
       "<Figure size 640x480 with 2 Axes>"
      ]
     },
     "metadata": {},
     "output_type": "display_data"
    },
    {
     "name": "stdout",
     "output_type": "stream",
     "text": [
      "\u001b[31m###################- End -###################\u001b[0m\n",
      "######-Model =>\u001b[07m NeuralNetwork \u001b[0m\n",
      "Cross-Validation Scores: [0.89420013 0.88846399 0.86998088 0.92734226 0.89802422 0.9056724\n",
      " 0.82090504 0.6724028  0.85395408 0.90433673]\n",
      "Mean CV Accuracy: 0.86353\n",
      "\u001b[01m              Classification_report \u001b[0m\n",
      "Test Accuracy :\u001b[32m \u001b[01m 93.11751% \u001b[30m \u001b[0m\n",
      "              precision    recall  f1-score   support\n",
      "\n",
      "           0       0.79      0.98      0.88       974\n",
      "           1       0.99      0.92      0.95      2949\n",
      "\n",
      "    accuracy                           0.93      3923\n",
      "   macro avg       0.89      0.95      0.91      3923\n",
      "weighted avg       0.94      0.93      0.93      3923\n",
      "\n",
      "\u001b[01m             Confusion_matrix \u001b[0m\n"
     ]
    },
    {
     "data": {
      "image/png": "[encoded data removed]",
      "text/plain": [
       "<Figure size 640x480 with 2 Axes>"
      ]
     },
     "metadata": {},
     "output_type": "display_data"
    },
    {
     "name": "stdout",
     "output_type": "stream",
     "text": [
      "\u001b[31m###################- End -###################\u001b[0m\n",
      "######-Model =>\u001b[07m RandomForestClassifier \u001b[0m\n",
      "Cross-Validation Scores: [0.99043977 0.98980242 0.99298917 0.99362651 0.99043977 0.99362651\n",
      " 0.98597833 0.99490121 0.99107143 0.99170918]\n",
      "Mean CV Accuracy: 0.99146\n",
      "\u001b[01m              Classification_report \u001b[0m\n",
      "Test Accuracy :\u001b[32m \u001b[01m 99.36273% \u001b[30m \u001b[0m\n",
      "              precision    recall  f1-score   support\n",
      "\n",
      "           0       0.99      0.98      0.99       974\n",
      "           1       0.99      1.00      1.00      2949\n",
      "\n",
      "    accuracy                           0.99      3923\n",
      "   macro avg       0.99      0.99      0.99      3923\n",
      "weighted avg       0.99      0.99      0.99      3923\n",
      "\n",
      "\u001b[01m             Confusion_matrix \u001b[0m\n"
     ]
    },
    {
     "data": {
      "image/png": "[encoded data removed]",
      "text/plain": [
       "<Figure size 640x480 with 2 Axes>"
      ]
     },
     "metadata": {},
     "output_type": "display_data"
    },
    {
     "name": "stdout",
     "output_type": "stream",
     "text": [
      "\u001b[31m###################- End -###################\u001b[0m\n",
      "Class Distribution After Undersampling:\n",
      "Malware\n",
      "1.0    11650\n",
      "0.0    11650\n",
      "Name: count, dtype: int64\n"
     ]
    }
   ],
   "source": [
    "for model, model_name in zip(models, model_names):\n",
    "    print('######-Model =>\\033[07m {} \\033[0m'.format(model_name))\n",
    "    \n",
    "    # ใช้ข้อมูลที่ถูกคัดลอกไว้สำหรับการฝึก\n",
    "    model.fit(X_resampled, y_resampled)\n",
    "    \n",
    "    # ทำการทำ cross-validation \n",
    "\n",
    "    cv_scores = cross_val_score(model, X_train, y_train, cv=10)  \n",
    "\n",
    "    # model คือโมเดลการเรียนรู้ของเครื่อง (machine learning model) ที่เราต้องการทดสอบประสิทธิภาพ\n",
    "    # X_train คือข้อมูลชุด train ที่ใช้สำหรับฝึกโมเดล\n",
    "    # y_train คือข้อมูลชุด train ที่ใช้สำหรับกำหนดเป้าหมาย\n",
    "    # cv=10 หมายถึงการแบ่งข้อมูลออกเป็น 10 ส่วนเท่าๆ กัน เพื่อทดสอบประสิทธิภาพของโมเดล 10 ครั้ง\n",
    "    \n",
    "    print('Cross-Validation Scores:', cv_scores)\n",
    "    print('Mean CV Accuracy: {:.5f}'.format(np.mean(cv_scores)))\n",
    "    print('\\033[01m              Classification_report \\033[0m')\n",
    "    \n",
    "\n",
    "    pred = model.predict(X_test)\n",
    "    acc = accuracy_score(pred, y_test)\n",
    "    accuracy_test.append(acc)\n",
    "    print('Test Accuracy :\\033[32m \\033[01m {:.5f}% \\033[30m \\033[0m'.format(acc * 100))\n",
    "    print(classification_report(y_test, pred))\n",
    "    print('\\033[01m             Confusion_matrix \\033[0m')\n",
    "    cf_matrix = confusion_matrix(y_test, pred)\n",
    "    plot_ = sns.heatmap(cf_matrix / np.sum(cf_matrix), annot=True, fmt='0.2%')\n",
    "    plt.show()\n",
    "    print('\\033[31m###################- End -###################\\033[0m')\n",
    "\n",
    "undersampled_data = pd.DataFrame(data=np.c_[X_resampled, y_resampled], columns=list(X.columns) + ['Malware'])\n",
    "\n",
    "class_counts = undersampled_data['Malware'].value_counts()\n",
    "\n",
    "print('Class Distribution After Undersampling:')\n",
    "print(class_counts)"
   ]
  }
 ],
 "metadata": {
  "kernelspec": {
   "display_name": "Python 3",
   "language": "python",
   "name": "python3"
  },
  "language_info": {
   "codemirror_mode": {
    "name": "ipython",
    "version": 3
   },
   "file_extension": ".py",
   "mimetype": "text/x-python",
   "name": "python",
   "nbconvert_exporter": "python",
   "pygments_lexer": "ipython3",
   "version": "3.11.4"
  }
 },
 "nbformat": 4,
 "nbformat_minor": 2
}
